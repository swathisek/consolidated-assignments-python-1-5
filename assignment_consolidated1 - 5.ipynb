{
 "cells": [
  {
   "cell_type": "code",
   "execution_count": null,
   "metadata": {},
   "outputs": [],
   "source": [
    "                                                  PYTHON - 1"
   ]
  },
  {
   "cell_type": "code",
   "execution_count": 1,
   "metadata": {
    "scrolled": true
   },
   "outputs": [
    {
     "name": "stdout",
     "output_type": "stream",
     "text": [
      "[2002, 2009, 2016, 2023, 2037, 2044, 2051, 2058, 2072, 2079, 2086, 2093, 2107, 2114, 2121, 2128, 2142, 2149, 2156, 2163, 2177, 2184, 2191, 2198, 2212, 2219, 2226, 2233, 2247, 2254, 2261, 2268, 2282, 2289, 2296, 2303, 2317, 2324, 2331, 2338, 2352, 2359, 2366, 2373, 2387, 2394, 2401, 2408, 2422, 2429, 2436, 2443, 2457, 2464, 2471, 2478, 2492, 2499, 2506, 2513, 2527, 2534, 2541, 2548, 2562, 2569, 2576, 2583, 2597, 2604, 2611, 2618, 2632, 2639, 2646, 2653, 2667, 2674, 2681, 2688, 2702, 2709, 2716, 2723, 2737, 2744, 2751, 2758, 2772, 2779, 2786, 2793, 2807, 2814, 2821, 2828, 2842, 2849, 2856, 2863, 2877, 2884, 2891, 2898, 2912, 2919, 2926, 2933, 2947, 2954, 2961, 2968, 2982, 2989, 2996, 3003, 3017, 3024, 3031, 3038, 3052, 3059, 3066, 3073, 3087, 3094, 3101, 3108, 3122, 3129, 3136, 3143, 3157, 3164, 3171, 3178, 3192, 3199]\n"
     ]
    }
   ],
   "source": [
    "#program to print the numbers between 2000 and 3200 ,which are multiples of 7,but not the multiples of 5\n",
    "start=2000\n",
    "stop=3200\n",
    "a_list=[]\n",
    "for i in range(start,stop+1):\n",
    "    if ((i % 7 == 0) and (i % 5 != 0)): \n",
    "        a_list.append(i )    \n",
    "print(a_list)    "
   ]
  },
  {
   "cell_type": "code",
   "execution_count": 7,
   "metadata": {},
   "outputs": [
    {
     "name": "stdout",
     "output_type": "stream",
     "text": [
      "enter your first nameSwathi \n",
      "enter your last nameSekar\n",
      "rakeS  ihtawS\n"
     ]
    }
   ],
   "source": [
    "# program to reverse the first and lastname\n",
    "\n",
    "firstname=input(\"enter your first name\")\n",
    "lastname=input(\"enter your last name\")\n",
    "d=firstname + \" \" + lastname\n",
    "print(d[::-1])\n",
    "\n",
    "\n",
    "\n",
    "\n",
    "\n",
    "\n"
   ]
  },
  {
   "cell_type": "code",
   "execution_count": 4,
   "metadata": {},
   "outputs": [
    {
     "name": "stdout",
     "output_type": "stream",
     "text": [
      "Program to print volume of sphere\n",
      "The volume of sphere is  678.24\n"
     ]
    }
   ],
   "source": [
    "#Program to print the volume of the sphere\n",
    "dia=12\n",
    "pi=3.14\n",
    "print(\"Program to print volume of sphere\")\n",
    "vol=((4//3)*pi*((dia//2)**3))\n",
    "print(\"The volume of sphere is \",vol)"
   ]
  },
  {
   "cell_type": "code",
   "execution_count": null,
   "metadata": {},
   "outputs": [],
   "source": [
    "                                                         PYTHON -2"
   ]
  },
  {
   "cell_type": "code",
   "execution_count": 4,
   "metadata": {},
   "outputs": [
    {
     "name": "stdout",
     "output_type": "stream",
     "text": [
      "enter a  wordAcadGild\n",
      "dliGdacA\n"
     ]
    }
   ],
   "source": [
    "#Program to get a word and print its reverse\n",
    "a=input(\"enter a  word\")\n",
    "print(a[::-1])\n",
    "\n"
   ]
  },
  {
   "cell_type": "code",
   "execution_count": 6,
   "metadata": {},
   "outputs": [
    {
     "name": "stdout",
     "output_type": "stream",
     "text": [
      "enter some numbers seperated by comma23,45,67,890\n",
      "[23, 45, 67, 890]\n"
     ]
    }
   ],
   "source": [
    "#Program to get comma seperated numbers and making them within a list\n",
    "a=input(\"enter some numbers seperated by comma\")\n",
    "b=str(a)\n",
    "c=b.split(',')\n",
    "l=[]\n",
    "for i in c:\n",
    "    l.append(int(i))\n",
    "print(l)\n",
    "\n"
   ]
  },
  {
   "cell_type": "code",
   "execution_count": 6,
   "metadata": {},
   "outputs": [
    {
     "name": "stdout",
     "output_type": "stream",
     "text": [
      "WE,THE PEOPLE OF INDIA,\n",
      "        having solemnly resolved to constitute India into a SOVEREIGN,!\n",
      "              SOCIALIST,SECULAR,DEMOCRACTIC REPUBLIC \n",
      "               and to secure to all its citizens\n"
     ]
    }
   ],
   "source": [
    "#Program to print string in various formats\n",
    "a=\"WE,THE PEOPLE OF INDIA,having solemnly resolved to constitute India into a SOVEREIGN,! SOCIALIST,SECULAR,DEMOCRACTIC REPUBLIC and to secure to all its citizens\"\n",
    "\n",
    "print(a[:23])\n",
    "print(\"       \",a[23:86])\n",
    "print(\"            \",a[86:126])\n",
    "print(\"              \",a[126:])\n"
   ]
  },
  {
   "cell_type": "code",
   "execution_count": 7,
   "metadata": {},
   "outputs": [
    {
     "name": "stdout",
     "output_type": "stream",
     "text": [
      "* \n",
      "* * \n",
      "* * * \n",
      "* * * * \n",
      "* * * * * \n",
      "* * * * \n",
      "* * * \n",
      "* * \n",
      "* \n",
      "\n"
     ]
    }
   ],
   "source": [
    "#Program to print a pattern\n",
    "for i in range(0,5):\n",
    "    for j in range(0,i+1):\n",
    "        print( \"*\", end=\" \")\n",
    "    print()\n",
    "\n",
    "for i in range(0,5):   \n",
    "    for k in range(4,i,-1):\n",
    "        print( \"*\", end=\" \")\n",
    "    print()\n",
    "\n",
    "       \n",
    "    "
   ]
  },
  {
   "cell_type": "code",
   "execution_count": null,
   "metadata": {},
   "outputs": [],
   "source": [
    "                                              PYTHON 3, 4"
   ]
  },
  {
   "cell_type": "code",
   "execution_count": 1,
   "metadata": {},
   "outputs": [
    {
     "name": "stdout",
     "output_type": "stream",
     "text": [
      "ENTER A CHARACTERE\n"
     ]
    },
    {
     "data": {
      "text/plain": [
       "True"
      ]
     },
     "execution_count": 1,
     "metadata": {},
     "output_type": "execute_result"
    }
   ],
   "source": [
    "#function to check character is vowel or not\n",
    "vowel_list=['a','e','i','o','u','A','E','I','O','U']\n",
    "def vowel(input_char):\n",
    "    if input_char in vowel_list:\n",
    "      return True\n",
    "    else:\n",
    "      return False\n",
    "input_char=str(input(\"ENTER A CHARACTER\"))       \n",
    "vowel(str(input_char))\n",
    "\n",
    "    "
   ]
  },
  {
   "cell_type": "code",
   "execution_count": 2,
   "metadata": {},
   "outputs": [
    {
     "name": "stdout",
     "output_type": "stream",
     "text": [
      "area of triangle 8.\n"
     ]
    }
   ],
   "source": [
    "#inheritance program to calculate area of triangle\n",
    "class Triangle:\n",
    "    def __init__(self, s, a, b, c):\n",
    "        self.s = s\n",
    "        self.a = a\n",
    "        self.b = b\n",
    "        self.c = c\n",
    "        \n",
    "class Tri(Triangle):\n",
    "    \n",
    "    def __init__(self, *args, **kwargs):\n",
    "        super(Tri, self).__init__(*args, **kwargs)\n",
    "        self.area= (self.s*(self.s-self.a)*(self.s-self.b)*(self.s-self.c))**0.5\n",
    "        \n",
    "    def __str__(self):\n",
    "        return \"area of triangle %d.\" %(self.area)\n",
    "t = Tri(6,5,3,2)   \n",
    "print(t)\n"
   ]
  },
  {
   "cell_type": "code",
   "execution_count": 3,
   "metadata": {},
   "outputs": [
    {
     "name": "stdout",
     "output_type": "stream",
     "text": [
      "['A', 'C', 'A', 'D', 'G', 'I', 'L', 'D']\n",
      "['x', 'xx', 'xxx', 'xxxx', 'y', 'yy', 'yyy', 'yyyy', 'z', 'zz', 'zzz', 'zzzz']\n",
      "['x', 'y', 'z', 'xx', 'yy', 'zz', 'xxx', 'yyy', 'zzz', 'xxxx', 'yyyy', 'zzzz']\n",
      "[[2], [3], [4], [3], [4], [5], [4], [5], [6]]\n",
      "[[2, 3, 4, 5], [3, 4, 5, 6], [4, 5, 6, 7], [5, 6, 7, 8]]\n",
      "[(1, 1), (2, 1), (3, 1), (1, 2), (2, 2), (3, 2), (1, 3), (2, 3), (3, 3)]\n"
     ]
    }
   ],
   "source": [
    "#list comprehensions\n",
    "word=\"ACADGILD\"\n",
    "response=[letter for letter in word]\n",
    "print(response)\n",
    "\n",
    "inputlist=['x','y','z']\n",
    "response=[(number*input)   for input in inputlist for number in range(1,5)]\n",
    "print(response)\n",
    "\n",
    "inputlist=['x','y','z']\n",
    "response=[(input*number)  for number in range(1,5) for input in inputlist]\n",
    "print(response)\n",
    "\n",
    "\n",
    "intlist=[2,3,4]\n",
    "response=[ [item + number] for item in intlist for number in range(0,3)]    \n",
    "print(response)\n",
    "\n",
    "intlist=[2,3,4,5]\n",
    "response=[[(item + number)  for item in intlist] for number in range(0,4)]  \n",
    "print(response)\n",
    "\n",
    "inputlist=[1,2,3]\n",
    "response=[  ((j,i)) for i in inputlist  for j in range(1,4)]\n",
    "print(response)"
   ]
  },
  {
   "cell_type": "code",
   "execution_count": 13,
   "metadata": {},
   "outputs": [
    {
     "name": "stdout",
     "output_type": "stream",
     "text": [
      "enter list of wordswelcome to python\n",
      "welcome\n"
     ]
    }
   ],
   "source": [
    "#program to print the longest word among given words\n",
    "def afunction(input_string):\n",
    "    string_list=input_string.split(\" \")\n",
    "    \n",
    "    longest = None\n",
    "    for string_element in string_list:\n",
    "        #aiprint(i)\n",
    "        if longest == None:\n",
    "            longest = string_element\n",
    "        if len(string_element) > len(longest):\n",
    "            longest = string_element\n",
    "    print(longest)\n",
    "        \n",
    "    \n",
    "s=input(\"enter list of words\") \n",
    "afunction(str(s))"
   ]
  },
  {
   "cell_type": "code",
   "execution_count": 10,
   "metadata": {},
   "outputs": [
    {
     "name": "stdout",
     "output_type": "stream",
     "text": [
      "enter number10\n",
      "[0, 1, 1, 2, 3, 5, 8, 13, 21, 34]\n"
     ]
    }
   ],
   "source": [
    "#program to implement reduce function\n",
    "def myreduce_func(number):\n",
    "    li=[]\n",
    "    a=0\n",
    "    b=1\n",
    "    for i in range(0,number): \n",
    "        li.append(a)\n",
    "        a,b =b, b+a \n",
    "    print(li) \n",
    "a=input(\"enter number\") \n",
    "myreduce_func(int(a))"
   ]
  },
  {
   "cell_type": "code",
   "execution_count": 7,
   "metadata": {},
   "outputs": [
    {
     "name": "stdout",
     "output_type": "stream",
     "text": [
      "enter  list of wordsweb scrapping\n",
      "enter a integer3\n",
      "['scrapping']\n"
     ]
    }
   ],
   "source": [
    "#program to print longest word then the  given integer\n",
    "def filter_long_words(inputstring, valueofN):\n",
    "    stringlist=inputstring.split(\" \")\n",
    "    longest=[]\n",
    "    for string in stringlist:\n",
    "        if len(string) > valueofN:\n",
    "            longest.append(string)\n",
    "    print(longest)\n",
    "words=input(\"enter  list of words\")\n",
    "n=input(\"enter a integer\")\n",
    "filter_long_words(str(words),int(n))\n"
   ]
  },
  {
   "cell_type": "code",
   "execution_count": 8,
   "metadata": {},
   "outputs": [
    {
     "name": "stdout",
     "output_type": "stream",
     "text": [
      "enter the  wordshello every body\n",
      "['hello', 'every', 'body']\n",
      "[5, 5, 4]\n"
     ]
    }
   ],
   "source": [
    "#program to print length of words\n",
    "def myfunc(inputstring):\n",
    "    stringlist=inputstring.split(\" \")\n",
    "    print(stringlist)\n",
    "    finallist=[]\n",
    "    for string in stringlist:\n",
    "        finallist.append(len(string))\n",
    "    print(finallist) \n",
    "    \n",
    "mystr=input(\"enter the  words\")\n",
    "myfunc(mystr)\n"
   ]
  },
  {
   "cell_type": "code",
   "execution_count": 9,
   "metadata": {},
   "outputs": [
    {
     "name": "stdout",
     "output_type": "stream",
     "text": [
      "[56, 22, 40]\n"
     ]
    }
   ],
   "source": [
    "#program to implement filter function\n",
    "def myfilter(mylist = [] ,*args):\n",
    "    finallist=[]\n",
    "    for i in mylist:\n",
    "        if int(i) % 2 == 0:\n",
    "            finallist.append(i)\n",
    "    print(finallist)   \n",
    "\n",
    "mylist=[35,56,89,22,40]\n",
    "myfilter(mylist)       \n",
    "        "
   ]
  },
  {
   "cell_type": "code",
   "execution_count": null,
   "metadata": {},
   "outputs": [],
   "source": [
    "                                                 PYTHON- 5"
   ]
  },
  {
   "cell_type": "code",
   "execution_count": 11,
   "metadata": {},
   "outputs": [
    {
     "name": "stdout",
     "output_type": "stream",
     "text": [
      "divide by zero error\n",
      "Finally executed\n"
     ]
    }
   ],
   "source": [
    "#function to compute 5/0 and use try/except to catch the exceptions.\n",
    "def compute():\n",
    "    try:\n",
    "        validation = 5/0\n",
    "    except:    \n",
    "        print(\"divide by zero error\")\n",
    "    finally:\n",
    "        print(\"Finally executed\")\n",
    "compute()    \n"
   ]
  },
  {
   "cell_type": "code",
   "execution_count": 12,
   "metadata": {},
   "outputs": [
    {
     "name": "stdout",
     "output_type": "stream",
     "text": [
      "Americans  play   Baseball\n",
      "Americans  play   Cricket\n",
      "Americans  watch   Baseball\n",
      "Americans  watch   Cricket\n",
      "Indians  play   Baseball\n",
      "Indians  play   Cricket\n",
      "Indians  watch   Baseball\n",
      "Indians  watch   Cricket\n"
     ]
    }
   ],
   "source": [
    "#Python program to generate all sentences\n",
    "subjects=[\"Americans\" , \"Indians\"]\n",
    "verb= [\"play\", \"watch\"]\n",
    "objects= [\"Baseball\", \"Cricket\"]\n",
    "for sub in subjects:\n",
    "    for ver in verb:\n",
    "        for obj in objects:\n",
    "             print(sub+\"  \" +ver+\"   \"+ obj)"
   ]
  }
 ],
 "metadata": {
  "kernelspec": {
   "display_name": "Python 3",
   "language": "python",
   "name": "python3"
  },
  "language_info": {
   "codemirror_mode": {
    "name": "ipython",
    "version": 3
   },
   "file_extension": ".py",
   "mimetype": "text/x-python",
   "name": "python",
   "nbconvert_exporter": "python",
   "pygments_lexer": "ipython3",
   "version": "3.7.1"
  }
 },
 "nbformat": 4,
 "nbformat_minor": 2
}
